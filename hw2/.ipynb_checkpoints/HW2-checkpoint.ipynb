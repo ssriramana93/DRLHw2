{
 "cells": [
  {
   "cell_type": "markdown",
   "metadata": {
    "nbgrader": {
     "grade": false,
     "grade_id": "intro_1",
     "locked": false,
     "solution": false
    }
   },
   "source": [
    "# Assignment 2: Markov Decision Processes\n",
    "\n",
    "\n",
    "## Homework Instructions\n",
    "All your answers should be written in this notebook.  You shouldn't need to write or modify any other files.\n",
    "Look for four instances of \"YOUR CODE HERE\"--those are the only parts of the code you need to write. To grade your homework, we will check whether the printouts immediately following your code match up with the results we got. The portions used for grading are highlighted in yellow. (However, note that the yellow highlighting does not show up when github renders this file.)\n",
    "\n",
    "To submit your homework, send an email to <berkeleydeeprlcourse@gmail.com> with the subject line \"Deep RL Assignment 2\" and two attachments:\n",
    "1. This `ipynb` file\n",
    "2. A pdf version of this file (To make the pdf, do `File - Print Preview`)\n",
    "\n",
    "The homework is due Febrary 22nd, 11:59 pm.\n",
    "\n",
    "--------------------------"
   ]
  },
  {
   "cell_type": "markdown",
   "metadata": {
    "nbgrader": {
     "grade": false,
     "grade_id": "intro_2",
     "locked": false,
     "solution": false
    }
   },
   "source": [
    "## Introduction\n",
    "\n",
    "This assignment will review the two classic methods for solving Markov Decision Processes (MDPs) with finite state and action spaces.\n",
    "We will implement value iteration (VI) and policy iteration (PI) for a finite MDP, both of which find the optimal policy in a finite number of iterations.\n",
    "\n",
    "The experiments here will use the Frozen Lake environment, a simple gridworld MDP that is taken from `gym` and slightly modified for this assignment. In this MDP, the agent must navigate from the start state to the goal state on a 4x4 grid, with stochastic transitions."
   ]
  },
  {
   "cell_type": "code",
   "execution_count": 69,
   "metadata": {
    "scrolled": true
   },
   "outputs": [
    {
     "name": "stdout",
     "output_type": "stream",
     "text": [
      "\n",
      "    Winter is here. You and your friends were tossing around a frisbee at the park\n",
      "    when you made a wild throw that left the frisbee out in the middle of the lake.\n",
      "    The water is mostly frozen, but there are a few holes where the ice has melted.\n",
      "    If you step into one of those holes, you'll fall into the freezing water.\n",
      "    At this time, there's an international frisbee shortage, so it's absolutely imperative that\n",
      "    you navigate across the lake and retrieve the disc.\n",
      "    However, the ice is slippery, so you won't always move in the direction you intend.\n",
      "    The surface is described using a grid like the following\n",
      "\n",
      "        SFFF\n",
      "        FHFH\n",
      "        FFFH\n",
      "        HFFG\n",
      "\n",
      "    S : starting point, safe\n",
      "    F : frozen surface, safe\n",
      "    H : hole, fall to your doom\n",
      "    G : goal, where the frisbee is located\n",
      "\n",
      "    The episode ends when you reach the goal or fall in a hole.\n",
      "    You receive a reward of 1 if you reach the goal, and zero otherwise.\n",
      "\n",
      "    \n"
     ]
    }
   ],
   "source": [
    "from frozen_lake import FrozenLakeEnv\n",
    "env = FrozenLakeEnv()\n",
    "print(env.__doc__)"
   ]
  },
  {
   "cell_type": "markdown",
   "metadata": {},
   "source": [
    "Let's look at what a random episode looks like."
   ]
  },
  {
   "cell_type": "code",
   "execution_count": 70,
   "metadata": {
    "scrolled": true
   },
   "outputs": [
    {
     "name": "stdout",
     "output_type": "stream",
     "text": [
      "\n",
      "\u001b[41mS\u001b[0mFFF\n",
      "FHFH\n",
      "FFFH\n",
      "HFFG\n",
      "  (Down)\n",
      "S\u001b[41mF\u001b[0mFF\n",
      "FHFH\n",
      "FFFH\n",
      "HFFG\n",
      "  (Down)\n",
      "SFFF\n",
      "F\u001b[41mH\u001b[0mFH\n",
      "FFFH\n",
      "HFFG\n"
     ]
    }
   ],
   "source": [
    "# Some basic imports and setup\n",
    "import numpy as np, numpy.random as nr, gym\n",
    "np.set_printoptions(precision=3)\n",
    "def begin_grading(): print(\"\\x1b[43m\")\n",
    "def end_grading(): print(\"\\x1b[0m\")\n",
    "\n",
    "# Seed RNGs so you get the same printouts as me\n",
    "env.seed(0); from gym.spaces import prng; prng.seed(10)\n",
    "# Generate the episode\n",
    "env.reset()\n",
    "for t in range(100):\n",
    "    env.render()\n",
    "    a = env.action_space.sample()\n",
    "    ob, rew, done, _ = env.step(a)\n",
    "    if done:\n",
    "        break\n",
    "assert done\n",
    "env.render();"
   ]
  },
  {
   "cell_type": "markdown",
   "metadata": {},
   "source": [
    "In the episode above, the agent falls into a hole after two timesteps. Also note the stochasticity--on the first step, the DOWN action is selected, but the agent moves to the right.\n",
    "\n",
    "We extract the relevant information from the gym Env into the MDP class below.\n",
    "The `env` object won't be used any further, we'll just use the `mdp` object."
   ]
  },
  {
   "cell_type": "code",
   "execution_count": 71,
   "metadata": {
    "scrolled": true
   },
   "outputs": [
    {
     "name": "stdout",
     "output_type": "stream",
     "text": [
      "mdp.P is a two-level dict where the first key is the state and the second key is the action.\n",
      "The 2D grid cells are associated with indices [0, 1, 2, ..., 15] from left to right and top to down, as in\n",
      "[[ 0  1  2  3]\n",
      " [ 4  5  6  7]\n",
      " [ 8  9 10 11]\n",
      " [12 13 14 15]]\n",
      "mdp.P[state][action] is a list of tuples (probability, nextstate, reward).\n",
      "\n",
      "('For example, state 0 is the initial state, and the transition information for s=0, a=0 is \\nP[0][0] =', [(0.1, 0, 0.0), (0.8, 0, 0.0), (0.1, 4, 0.0)], '\\n')\n",
      "As another example, state 5 corresponds to a hole in the ice, which transitions to itself with probability 1 and reward 0.\n",
      "('P[5][0] =', [(1.0, 5, 0)], '\\n')\n"
     ]
    }
   ],
   "source": [
    "class MDP(object):\n",
    "    def __init__(self, P, nS, nA, desc=None):\n",
    "        self.P = P # state transition and reward probabilities, explained below\n",
    "        self.nS = nS # number of states\n",
    "        self.nA = nA # number of actions\n",
    "        self.desc = desc # 2D array specifying what each grid cell means (used for plotting)\n",
    "mdp = MDP( {s : {a : [tup[:3] for tup in tups] for (a, tups) in a2d.items()} for (s, a2d) in env.P.items()}, env.nS, env.nA, env.desc)\n",
    "\n",
    "\n",
    "print(\"mdp.P is a two-level dict where the first key is the state and the second key is the action.\")\n",
    "print(\"The 2D grid cells are associated with indices [0, 1, 2, ..., 15] from left to right and top to down, as in\")\n",
    "print(np.arange(16).reshape(4,4))\n",
    "print(\"mdp.P[state][action] is a list of tuples (probability, nextstate, reward).\\n\")\n",
    "print(\"For example, state 0 is the initial state, and the transition information for s=0, a=0 is \\nP[0][0] =\", mdp.P[0][0], \"\\n\")\n",
    "print(\"As another example, state 5 corresponds to a hole in the ice, which transitions to itself with probability 1 and reward 0.\")\n",
    "print(\"P[5][0] =\", mdp.P[5][0], '\\n')"
   ]
  },
  {
   "cell_type": "markdown",
   "metadata": {
    "nbgrader": {
     "grade": false,
     "grade_id": "4",
     "locked": false,
     "solution": false
    }
   },
   "source": [
    "## Part 1: Value Iteration"
   ]
  },
  {
   "cell_type": "markdown",
   "metadata": {
    "nbgrader": {
     "grade": false,
     "locked": false,
     "solution": false
    }
   },
   "source": [
    "### Problem 1: implement value iteration\n",
    "In this problem, you'll implement value iteration, which has the following pseudocode:\n",
    "\n",
    "---\n",
    "Initialize $V^{(0)}(s)=0$, for all $s$\n",
    "\n",
    "For $i=0, 1, 2, \\dots$\n",
    "- $V^{(i+1)}(s) = \\max_a \\sum_{s'} P(s,a,s') [ R(s,a,s') + \\gamma V^{(i)}(s')]$, for all $s$\n",
    "\n",
    "---\n",
    "\n",
    "We additionally define the sequence of greedy policies $\\pi^{(0)}, \\pi^{(1)}, \\dots, \\pi^{(n-1)}$, where\n",
    "$$\\pi^{(i)}(s) = \\arg \\max_a \\sum_{s'} P(s,a,s') [ R(s,a,s') + \\gamma V^{(i)}(s')]$$\n",
    "\n",
    "Your code will return two lists: $[V^{(0)}, V^{(1)}, \\dots, V^{(n)}]$ and $[\\pi^{(0)}, \\pi^{(1)}, \\dots, \\pi^{(n-1)}]$\n",
    "\n",
    "To ensure that you get the same policies as the reference solution, choose the lower-index action to break ties in $\\arg \\max_a$. This is done automatically by np.argmax. This will only affect the \"# chg actions\" printout below--it won't affect the values computed.\n",
    "\n",
    "<div class=\"alert alert-warning\">\n",
    "Warning: make a copy of your value function each iteration and use that copy for the update--don't update your value function in place. \n",
    "Updating in-place is also a valid algorithm, sometimes called Gauss-Seidel value iteration or asynchronous value iteration, but it will cause you to get different results than me.\n",
    "</div>"
   ]
  },
  {
   "cell_type": "code",
   "execution_count": 78,
   "metadata": {
    "nbgrader": {
     "grade": false,
     "grade_id": "vstar_backup",
     "locked": false,
     "solution": true
    },
    "scrolled": false
   },
   "outputs": [
    {
     "name": "stdout",
     "output_type": "stream",
     "text": [
      "\u001b[43m\n",
      "Iteration | max|V-Vprev| | # chg actions | V[0]\n",
      "----------+--------------+---------------+---------\n",
      "   0      | 0.80000      |  N/A          | 0.000\n",
      "   1      | 0.60800      |    2          | 0.000\n",
      "   2      | 0.51984      |    2          | 0.000\n",
      "   3      | 0.39508      |    2          | 0.000\n",
      "   4      | 0.30026      |    2          | 0.000\n",
      "   5      | 0.25355      |    1          | 0.254\n",
      "   6      | 0.10478      |    0          | 0.345\n",
      "   7      | 0.09657      |    0          | 0.442\n",
      "   8      | 0.03656      |    0          | 0.478\n",
      "   9      | 0.02772      |    0          | 0.506\n",
      "  10      | 0.01111      |    0          | 0.517\n",
      "  11      | 0.00735      |    0          | 0.524\n",
      "  12      | 0.00310      |    0          | 0.527\n",
      "  13      | 0.00190      |    0          | 0.529\n",
      "  14      | 0.00083      |    0          | 0.530\n",
      "  15      | 0.00049      |    0          | 0.531\n",
      "  16      | 0.00022      |    0          | 0.531\n",
      "  17      | 0.00013      |    0          | 0.531\n",
      "  18      | 0.00006      |    0          | 0.531\n",
      "  19      | 0.00003      |    0          | 0.531\n",
      "\u001b[0m\n"
     ]
    }
   ],
   "source": [
    "def value_iteration(mdp, gamma, nIt):\n",
    "    \"\"\"\n",
    "    Inputs:\n",
    "        mdp: MDP\n",
    "        gamma: discount factor\n",
    "        nIt: number of iterations, corresponding to n above\n",
    "    Outputs:\n",
    "        (value_functions, policies)\n",
    "        \n",
    "    len(value_functions) == nIt+1 and len(policies) == n\n",
    "    \"\"\"\n",
    "    print(\"Iteration | max|V-Vprev| | # chg actions | V[0]\")\n",
    "    print(\"----------+--------------+---------------+---------\")\n",
    "    Vs = [np.zeros(mdp.nS)] # list of value functions contains the initial value function V^{(0)}, which is zero\n",
    "    pis = []\n",
    "    for it in range(nIt):\n",
    "        oldpi = pis[-1] if len(pis) > 0 else None # \\pi^{(it)} = Greedy[V^{(it-1)}]. Just used for printout\n",
    "        Vprev = Vs[-1] # V^{(it)}\n",
    "        val = np.array([np.array([np.sum([tp[0]*(tp[2] + gamma*Vprev[tp[1]]) for tp in mdp.P[s][a]]) for a in xrange(mdp.nA)]) for s in xrange(mdp.nS)]) \n",
    "        \n",
    "        V = np.max(val, axis = 1)\n",
    "        pi = np.argmax(val, axis = 1)\n",
    "        \n",
    "        # YOUR CODE HERE\n",
    "        # Your code should define the following two variables\n",
    "        # pi: greedy policy for Vprev, \n",
    "        #     corresponding to the math above: \\pi^{(it)} = Greedy[V^{(it)}]\n",
    "        #     numpy array of ints\n",
    "        # V: bellman backup on Vprev\n",
    "        #     corresponding to the math above: V^{(it+1)} = T[V^{(it)}]\n",
    "        #     numpy array of floats\n",
    "        max_diff = np.abs(V - Vprev).max()\n",
    "        nChgActions=\"N/A\" if oldpi is None else (pi != oldpi).sum()\n",
    "        print(\"%4i      | %6.5f      | %4s          | %5.3f\"%(it, max_diff, nChgActions, V[0]))\n",
    "        Vs.append(V)\n",
    "        pis.append(pi)\n",
    "    return Vs, pis\n",
    "\n",
    "GAMMA=0.95 # we'll be using this same value in subsequent problems\n",
    "begin_grading()\n",
    "Vs_VI, pis_VI = value_iteration(mdp, gamma=GAMMA, nIt=20)\n",
    "end_grading()\n"
   ]
  },
  {
   "cell_type": "markdown",
   "metadata": {},
   "source": [
    "Below, we've illustrated the progress of value iteration. Your optimal actions are shown by arrows.\n",
    "At the bottom, the value of the different states are plotted."
   ]
  },
  {
   "cell_type": "code",
   "execution_count": 73,
   "metadata": {
    "scrolled": false
   },
   "outputs": [
    {
     "data": {
      "image/png": "[encoded data removed]",
      "text/plain": [
       "<matplotlib.figure.Figure at 0x7fb8785bc850>"
      ]
     },
     "metadata": {},
     "output_type": "display_data"
    },
    {
     "data": {
      "image/png": "[encoded data removed]",
      "text/plain": [
       "<matplotlib.figure.Figure at 0x7fb877d526d0>"
      ]
     },
     "metadata": {},
     "output_type": "display_data"
    },
    {
     "data": {
      "image/png": "[encoded data removed]",
      "text/plain": [
       "<matplotlib.figure.Figure at 0x7fb877be5250>"
      ]
     },
     "metadata": {},
     "output_type": "display_data"
    },
    {
     "data": {
      "image/png": "[encoded data removed]",
      "text/plain": [
       "<matplotlib.figure.Figure at 0x7fb877bc20d0>"
      ]
     },
     "metadata": {},
     "output_type": "display_data"
    },
    {
     "data": {
      "image/png": "[encoded data removed]",
      "text/plain": [
       "<matplotlib.figure.Figure at 0x7fb877faa490>"
      ]
     },
     "metadata": {},
     "output_type": "display_data"
    },
    {
     "data": {
      "image/png": "[encoded data removed]",
      "text/plain": [
       "<matplotlib.figure.Figure at 0x7fb877c15c90>"
      ]
     },
     "metadata": {},
     "output_type": "display_data"
    },
    {
     "data": {
      "image/png": "[encoded data removed]",
      "text/plain": [
       "<matplotlib.figure.Figure at 0x7fb877f698d0>"
      ]
     },
     "metadata": {},
     "output_type": "display_data"
    },
    {
     "data": {
      "image/png": "[encoded data removed]",
      "text/plain": [
       "<matplotlib.figure.Figure at 0x7fb878950390>"
      ]
     },
     "metadata": {},
     "output_type": "display_data"
    },
    {
     "data": {
      "image/png": "[encoded data removed]",
      "text/plain": [
       "<matplotlib.figure.Figure at 0x7fb87891e590>"
      ]
     },
     "metadata": {},
     "output_type": "display_data"
    },
    {
     "data": {
      "image/png": "[encoded data removed]",
      "text/plain": [
       "<matplotlib.figure.Figure at 0x7fb8789bc150>"
      ]
     },
     "metadata": {},
     "output_type": "display_data"
    },
    {
     "data": {
      "image/png": "[encoded data removed]",
      "text/plain": [
       "<matplotlib.figure.Figure at 0x7fb8785bc9d0>"
      ]
     },
     "metadata": {},
     "output_type": "display_data"
    }
   ],
   "source": [
    "import matplotlib.pyplot as plt\n",
    "%matplotlib inline\n",
    "for (V, pi) in zip(Vs_VI[:10], pis_VI[:10]):\n",
    "    plt.figure(figsize=(3,3))\n",
    "    plt.imshow(V.reshape(4,4), cmap='gray', interpolation='none', clim=(0,1))\n",
    "    ax = plt.gca()\n",
    "    ax.set_xticks(np.arange(4)-.5)\n",
    "    ax.set_yticks(np.arange(4)-.5)\n",
    "    ax.set_xticklabels([])\n",
    "    ax.set_yticklabels([])\n",
    "    Y, X = np.mgrid[0:4, 0:4]\n",
    "    a2uv = {0: (-1, 0), 1:(0, -1), 2:(1,0), 3:(-1, 0)}\n",
    "    Pi = pi.reshape(4,4)\n",
    "    for y in range(4):\n",
    "        for x in range(4):\n",
    "            a = Pi[y, x]\n",
    "            u, v = a2uv[a]\n",
    "            plt.arrow(x, y,u*.3, -v*.3, color='m', head_width=0.1, head_length=0.1) \n",
    "            plt.text(x, y, str(env.desc[y,x].item().decode()),\n",
    "                     color='g', size=12,  verticalalignment='center',\n",
    "                     horizontalalignment='center', fontweight='bold')\n",
    "    plt.grid(color='b', lw=2, ls='-')\n",
    "plt.figure()\n",
    "plt.plot(Vs_VI)\n",
    "plt.title(\"Values of different states\");"
   ]
  },
  {
   "cell_type": "markdown",
   "metadata": {},
   "source": [
    "## Problem 2: construct an MDP where value iteration takes a long time to converge\n",
    "\n",
    "When we ran value iteration on the frozen lake problem, the last iteration where an action changed was iteration 6--i.e., value iteration computed the optimal policy at iteration 6.\n",
    "Are there any guarantees regarding how many iterations it'll take value iteration to compute the optimal policy?\n",
    "There are no such guarantees without additional assumptions--we can construct the MDP in such a way that the greedy policy will change after arbitrarily many iterations.\n",
    "\n",
    "Your task: define an MDP with at most 3 states and 2 actions, such that when you run value iteration, the optimal action changes at iteration >= 50. Use discount=0.95. (However, note that the discount doesn't matter here--you can construct an appropriate MDP with any discount.)"
   ]
  },
  {
   "cell_type": "code",
   "execution_count": 79,
   "metadata": {
    "scrolled": false
   },
   "outputs": [
    {
     "name": "stdout",
     "output_type": "stream",
     "text": [
      "\u001b[43m\n",
      "Iteration | max|V-Vprev| | # chg actions | V[0]\n",
      "----------+--------------+---------------+---------\n",
      "   0      | 1000.00000      |  N/A          | 0.000\n",
      "   1      | 950.00000      |    0          | 0.000\n",
      "   2      | 902.50000      |    0          | 0.000\n",
      "   3      | 857.37500      |    0          | 0.000\n",
      "   4      | 814.50625      |    0          | 0.000\n",
      "   5      | 773.78094      |    0          | 0.000\n",
      "   6      | 735.09189      |    0          | 0.000\n",
      "   7      | 698.33730      |    0          | 0.000\n",
      "   8      | 663.42043      |    0          | 0.000\n",
      "   9      | 630.24941      |    0          | 0.000\n",
      "  10      | 598.73694      |    0          | 0.000\n",
      "  11      | 568.80009      |    0          | 0.000\n",
      "  12      | 540.36009      |    0          | 0.000\n",
      "  13      | 513.34208      |    0          | 0.000\n",
      "  14      | 487.67498      |    0          | 0.000\n",
      "  15      | 463.29123      |    1          | 0.000\n",
      "  16      | 440.12667      |    1          | 0.028\n",
      "  17      | 418.12034      |    0          | 0.123\n",
      "  18      | 397.21432      |    0          | 0.317\n",
      "  19      | 377.35360      |    0          | 0.634\n",
      "  20      | 358.48592      |    0          | 1.096\n",
      "  21      | 340.56163      |    0          | 1.718\n",
      "  22      | 323.53354      |    0          | 2.512\n",
      "  23      | 307.35687      |    0          | 3.486\n",
      "  24      | 291.98902      |    0          | 4.645\n",
      "  25      | 277.38957      |    0          | 5.991\n",
      "  26      | 263.52009      |    0          | 7.524\n",
      "  27      | 250.34409      |    0          | 9.243\n",
      "  28      | 237.82689      |    0          | 11.143\n",
      "  29      | 225.93554      |    0          | 13.219\n",
      "  30      | 214.63876      |    0          | 15.466\n",
      "  31      | 203.90683      |    0          | 17.875\n",
      "  32      | 193.71148      |    0          | 20.440\n",
      "  33      | 184.02591      |    0          | 23.150\n",
      "  34      | 174.82461      |    0          | 25.999\n",
      "  35      | 166.08338      |    0          | 28.975\n",
      "  36      | 157.77921      |    0          | 32.070\n",
      "  37      | 149.89025      |    0          | 35.273\n",
      "  38      | 142.39574      |    0          | 38.576\n",
      "  39      | 135.27595      |    0          | 41.968\n",
      "  40      | 128.51216      |    0          | 45.441\n",
      "  41      | 122.08655      |    0          | 48.984\n",
      "  42      | 115.98222      |    0          | 52.589\n",
      "  43      | 110.18311      |    0          | 56.246\n",
      "  44      | 104.67395      |    0          | 59.948\n",
      "  45      | 99.44026      |    0          | 63.686\n",
      "  46      | 94.46824      |    0          | 67.451\n",
      "  47      | 89.74483      |    0          | 71.237\n",
      "  48      | 85.25759      |    0          | 75.037\n",
      "  49      | 80.99471      |    0          | 78.842\n",
      "  50      | 76.94498      |    0          | 82.648\n",
      "  51      | 73.09773      |    0          | 86.447\n",
      "  52      | 69.44284      |    0          | 90.234\n",
      "  53      | 65.97070      |    0          | 94.003\n",
      "  54      | 62.67216      |    0          | 97.750\n",
      "  55      | 59.53856      |    0          | 101.469\n",
      "  56      | 56.56163      |    0          | 105.157\n",
      "  57      | 53.73355      |    0          | 108.809\n",
      "  58      | 51.04687      |    0          | 112.422\n",
      "  59      | 48.49453      |    0          | 115.992\n",
      "  60      | 46.06980      |    0          | 119.516\n",
      "  61      | 43.76631      |    0          | 122.992\n",
      "  62      | 41.57799      |    0          | 126.416\n",
      "  63      | 39.49909      |    0          | 129.787\n",
      "  64      | 37.52414      |    0          | 133.102\n",
      "  65      | 35.64793      |    0          | 136.360\n",
      "  66      | 33.86554      |    0          | 139.560\n",
      "  67      | 32.17226      |    0          | 142.699\n",
      "  68      | 30.56365      |    0          | 145.777\n",
      "  69      | 29.03546      |    0          | 148.793\n",
      "  70      | 27.58369      |    0          | 151.746\n",
      "  71      | 26.20451      |    0          | 154.635\n",
      "  72      | 24.89428      |    0          | 157.461\n",
      "  73      | 23.64957      |    0          | 160.223\n",
      "  74      | 22.46709      |    0          | 162.920\n",
      "  75      | 21.34373      |    0          | 165.553\n",
      "  76      | 20.27655      |    0          | 168.122\n",
      "  77      | 19.26272      |    0          | 170.627\n",
      "  78      | 18.29958      |    0          | 173.068\n",
      "  79      | 17.38460      |    0          | 175.446\n",
      "  80      | 16.51537      |    0          | 177.762\n",
      "  81      | 15.68961      |    0          | 180.016\n",
      "  82      | 14.90513      |    0          | 182.208\n",
      "  83      | 14.15987      |    0          | 184.340\n",
      "  84      | 13.45188      |    0          | 186.412\n",
      "  85      | 12.77928      |    0          | 188.425\n",
      "  86      | 12.14032      |    0          | 190.380\n",
      "  87      | 11.53330      |    0          | 192.278\n",
      "  88      | 10.95664      |    0          | 194.119\n",
      "  89      | 10.40880      |    0          | 195.906\n",
      "  90      | 9.88836      |    0          | 197.638\n",
      "  91      | 9.39395      |    0          | 199.318\n",
      "  92      | 8.92425      |    0          | 200.945\n",
      "  93      | 8.47804      |    0          | 202.522\n",
      "  94      | 8.05413      |    0          | 204.048\n",
      "  95      | 7.65143      |    0          | 205.526\n",
      "  96      | 7.26886      |    0          | 206.957\n",
      "  97      | 6.90541      |    0          | 208.341\n",
      "  98      | 6.56014      |    0          | 209.679\n",
      "  99      | 6.23214      |    0          | 210.974\n",
      " 100      | 5.92053      |    0          | 212.225\n",
      " 101      | 5.62450      |    0          | 213.434\n",
      " 102      | 5.34328      |    0          | 214.603\n",
      " 103      | 5.07611      |    0          | 215.731\n",
      " 104      | 4.82231      |    0          | 216.821\n",
      " 105      | 4.58119      |    0          | 217.873\n",
      " 106      | 4.35213      |    0          | 218.889\n",
      " 107      | 4.13453      |    0          | 219.869\n",
      " 108      | 3.92780      |    0          | 220.815\n",
      " 109      | 3.73141      |    0          | 221.727\n",
      " 110      | 3.54484      |    0          | 222.607\n",
      " 111      | 3.36760      |    0          | 223.455\n",
      " 112      | 3.19922      |    0          | 224.272\n",
      " 113      | 3.03926      |    0          | 225.060\n",
      " 114      | 2.88729      |    0          | 225.819\n",
      " 115      | 2.74293      |    0          | 226.550\n",
      " 116      | 2.60578      |    0          | 227.255\n",
      " 117      | 2.47549      |    0          | 227.933\n",
      " 118      | 2.35172      |    0          | 228.586\n",
      " 119      | 2.23413      |    0          | 229.215\n",
      " 120      | 2.12243      |    0          | 229.820\n",
      " 121      | 2.01631      |    0          | 230.402\n",
      " 122      | 1.91549      |    0          | 230.962\n",
      " 123      | 1.81972      |    0          | 231.501\n",
      " 124      | 1.72873      |    0          | 232.020\n",
      " 125      | 1.64229      |    0          | 232.518\n",
      " 126      | 1.56018      |    0          | 232.997\n",
      " 127      | 1.48217      |    0          | 233.458\n",
      " 128      | 1.40806      |    0          | 233.901\n",
      " 129      | 1.33766      |    0          | 234.327\n",
      " 130      | 1.27078      |    0          | 234.736\n",
      " 131      | 1.20724      |    0          | 235.128\n",
      " 132      | 1.14687      |    0          | 235.506\n",
      " 133      | 1.08953      |    0          | 235.869\n",
      " 134      | 1.03505      |    0          | 236.217\n",
      " 135      | 0.98330      |    0          | 236.551\n",
      " 136      | 0.93414      |    0          | 236.872\n",
      " 137      | 0.88743      |    0          | 237.180\n",
      " 138      | 0.84306      |    0          | 237.476\n",
      " 139      | 0.80091      |    0          | 237.760\n",
      " 140      | 0.76086      |    0          | 238.033\n",
      " 141      | 0.72282      |    0          | 238.294\n",
      " 142      | 0.68668      |    0          | 238.545\n",
      " 143      | 0.65234      |    0          | 238.786\n",
      " 144      | 0.61973      |    0          | 239.016\n",
      " 145      | 0.58874      |    0          | 239.238\n",
      " 146      | 0.55930      |    0          | 239.450\n",
      " 147      | 0.53134      |    0          | 239.654\n",
      " 148      | 0.50477      |    0          | 239.849\n",
      " 149      | 0.47953      |    0          | 240.036\n",
      " 150      | 0.45555      |    0          | 240.215\n",
      " 151      | 0.43278      |    0          | 240.387\n",
      " 152      | 0.41114      |    0          | 240.552\n",
      " 153      | 0.39058      |    0          | 240.710\n",
      " 154      | 0.37105      |    0          | 240.861\n",
      " 155      | 0.35250      |    0          | 241.006\n",
      " 156      | 0.33487      |    0          | 241.145\n",
      " 157      | 0.31813      |    0          | 241.278\n",
      " 158      | 0.30222      |    0          | 241.405\n",
      " 159      | 0.28711      |    0          | 241.527\n",
      " 160      | 0.27276      |    0          | 241.644\n",
      " 161      | 0.25912      |    0          | 241.756\n",
      " 162      | 0.24616      |    0          | 241.863\n",
      " 163      | 0.23386      |    0          | 241.965\n",
      " 164      | 0.22216      |    0          | 242.063\n",
      " 165      | 0.21105      |    0          | 242.157\n",
      " 166      | 0.20050      |    0          | 242.247\n",
      " 167      | 0.19048      |    0          | 242.333\n",
      " 168      | 0.18095      |    0          | 242.416\n",
      " 169      | 0.17191      |    0          | 242.495\n",
      " 170      | 0.16331      |    0          | 242.570\n",
      " 171      | 0.15514      |    0          | 242.642\n",
      " 172      | 0.14739      |    0          | 242.711\n",
      " 173      | 0.14002      |    0          | 242.777\n",
      " 174      | 0.13302      |    0          | 242.840\n",
      " 175      | 0.12637      |    0          | 242.901\n",
      " 176      | 0.12005      |    0          | 242.959\n",
      " 177      | 0.11405      |    0          | 243.014\n",
      " 178      | 0.10834      |    0          | 243.067\n",
      " 179      | 0.10293      |    0          | 243.117\n",
      " 180      | 0.09778      |    0          | 243.165\n",
      " 181      | 0.09289      |    0          | 243.212\n",
      " 182      | 0.08825      |    0          | 243.256\n",
      " 183      | 0.08383      |    0          | 243.298\n",
      " 184      | 0.07964      |    0          | 243.338\n",
      " 185      | 0.07566      |    0          | 243.377\n",
      " 186      | 0.07188      |    0          | 243.414\n",
      " 187      | 0.06828      |    0          | 243.449\n",
      " 188      | 0.06487      |    0          | 243.483\n",
      " 189      | 0.06163      |    0          | 243.515\n",
      " 190      | 0.05854      |    0          | 243.546\n",
      " 191      | 0.05562      |    0          | 243.575\n",
      " 192      | 0.05284      |    0          | 243.603\n",
      " 193      | 0.05019      |    0          | 243.630\n",
      " 194      | 0.04768      |    0          | 243.656\n",
      " 195      | 0.04530      |    0          | 243.680\n",
      " 196      | 0.04304      |    0          | 243.703\n",
      " 197      | 0.04088      |    0          | 243.726\n",
      " 198      | 0.03884      |    0          | 243.747\n",
      " 199      | 0.03690      |    0          | 243.767\n",
      " 200      | 0.03505      |    0          | 243.787\n",
      " 201      | 0.03330      |    0          | 243.805\n",
      " 202      | 0.03164      |    0          | 243.823\n",
      " 203      | 0.03005      |    0          | 243.840\n",
      " 204      | 0.02855      |    0          | 243.856\n",
      " 205      | 0.02712      |    0          | 243.872\n",
      " 206      | 0.02577      |    0          | 243.887\n",
      " 207      | 0.02448      |    0          | 243.901\n",
      " 208      | 0.02325      |    0          | 243.914\n",
      " 209      | 0.02209      |    0          | 243.927\n",
      " 210      | 0.02099      |    0          | 243.939\n",
      " 211      | 0.01994      |    0          | 243.951\n",
      " 212      | 0.01894      |    0          | 243.962\n",
      " 213      | 0.01799      |    0          | 243.973\n",
      " 214      | 0.01709      |    0          | 243.983\n",
      " 215      | 0.01624      |    0          | 243.992\n",
      " 216      | 0.01543      |    0          | 244.002\n",
      " 217      | 0.01466      |    0          | 244.011\n",
      " 218      | 0.01392      |    0          | 244.019\n",
      " 219      | 0.01323      |    0          | 244.027\n",
      " 220      | 0.01257      |    0          | 244.035\n",
      " 221      | 0.01194      |    0          | 244.042\n",
      " 222      | 0.01134      |    0          | 244.049\n",
      " 223      | 0.01077      |    0          | 244.056\n",
      " 224      | 0.01023      |    0          | 244.062\n",
      " 225      | 0.00972      |    0          | 244.068\n",
      " 226      | 0.00924      |    0          | 244.074\n",
      " 227      | 0.00878      |    0          | 244.079\n",
      " 228      | 0.00834      |    0          | 244.085\n",
      " 229      | 0.00792      |    0          | 244.090\n",
      " 230      | 0.00752      |    0          | 244.094\n",
      " 231      | 0.00715      |    0          | 244.099\n",
      " 232      | 0.00679      |    0          | 244.103\n",
      " 233      | 0.00645      |    0          | 244.107\n",
      " 234      | 0.00613      |    0          | 244.111\n",
      " 235      | 0.00582      |    0          | 244.115\n",
      " 236      | 0.00553      |    0          | 244.119\n",
      " 237      | 0.00525      |    0          | 244.122\n",
      " 238      | 0.00499      |    0          | 244.126\n",
      " 239      | 0.00474      |    0          | 244.129\n",
      " 240      | 0.00450      |    0          | 244.132\n",
      " 241      | 0.00428      |    0          | 244.134\n",
      " 242      | 0.00407      |    0          | 244.137\n",
      " 243      | 0.00386      |    0          | 244.140\n",
      " 244      | 0.00367      |    0          | 244.142\n",
      " 245      | 0.00349      |    0          | 244.145\n",
      " 246      | 0.00331      |    0          | 244.147\n",
      " 247      | 0.00315      |    0          | 244.149\n",
      " 248      | 0.00299      |    0          | 244.151\n",
      " 249      | 0.00284      |    0          | 244.153\n",
      " 250      | 0.00270      |    0          | 244.155\n",
      " 251      | 0.00256      |    0          | 244.156\n",
      " 252      | 0.00243      |    0          | 244.158\n",
      " 253      | 0.00231      |    0          | 244.160\n",
      " 254      | 0.00220      |    0          | 244.161\n",
      " 255      | 0.00209      |    0          | 244.163\n",
      " 256      | 0.00198      |    0          | 244.164\n",
      " 257      | 0.00188      |    0          | 244.165\n",
      " 258      | 0.00179      |    0          | 244.167\n",
      " 259      | 0.00170      |    0          | 244.168\n",
      " 260      | 0.00161      |    0          | 244.169\n",
      " 261      | 0.00153      |    0          | 244.170\n",
      " 262      | 0.00146      |    0          | 244.171\n",
      " 263      | 0.00138      |    0          | 244.172\n",
      " 264      | 0.00132      |    0          | 244.173\n",
      " 265      | 0.00125      |    0          | 244.174\n",
      " 266      | 0.00119      |    0          | 244.175\n",
      " 267      | 0.00113      |    0          | 244.176\n",
      " 268      | 0.00107      |    0          | 244.176\n",
      " 269      | 0.00102      |    0          | 244.177\n",
      " 270      | 0.00097      |    0          | 244.178\n",
      " 271      | 0.00092      |    0          | 244.178\n",
      " 272      | 0.00087      |    0          | 244.179\n",
      " 273      | 0.00083      |    0          | 244.180\n",
      " 274      | 0.00079      |    0          | 244.180\n",
      " 275      | 0.00075      |    0          | 244.181\n",
      " 276      | 0.00071      |    0          | 244.181\n",
      " 277      | 0.00068      |    0          | 244.182\n",
      " 278      | 0.00064      |    0          | 244.182\n",
      " 279      | 0.00061      |    0          | 244.183\n",
      " 280      | 0.00058      |    0          | 244.183\n",
      " 281      | 0.00055      |    0          | 244.184\n",
      " 282      | 0.00052      |    0          | 244.184\n",
      " 283      | 0.00050      |    0          | 244.184\n",
      " 284      | 0.00047      |    0          | 244.185\n",
      " 285      | 0.00045      |    0          | 244.185\n",
      " 286      | 0.00043      |    0          | 244.185\n",
      " 287      | 0.00040      |    0          | 244.186\n",
      " 288      | 0.00038      |    0          | 244.186\n",
      " 289      | 0.00036      |    0          | 244.186\n",
      " 290      | 0.00035      |    0          | 244.187\n",
      " 291      | 0.00033      |    0          | 244.187\n",
      " 292      | 0.00031      |    0          | 244.187\n",
      " 293      | 0.00030      |    0          | 244.187\n",
      " 294      | 0.00028      |    0          | 244.188\n",
      " 295      | 0.00027      |    0          | 244.188\n",
      " 296      | 0.00025      |    0          | 244.188\n",
      " 297      | 0.00024      |    0          | 244.188\n",
      " 298      | 0.00023      |    0          | 244.188\n",
      " 299      | 0.00022      |    0          | 244.188\n",
      " 300      | 0.00021      |    0          | 244.189\n",
      " 301      | 0.00020      |    0          | 244.189\n",
      " 302      | 0.00019      |    0          | 244.189\n",
      " 303      | 0.00018      |    0          | 244.189\n",
      " 304      | 0.00017      |    0          | 244.189\n",
      " 305      | 0.00016      |    0          | 244.189\n",
      " 306      | 0.00015      |    0          | 244.189\n",
      " 307      | 0.00014      |    0          | 244.190\n",
      " 308      | 0.00014      |    0          | 244.190\n",
      " 309      | 0.00013      |    0          | 244.190\n",
      " 310      | 0.00012      |    0          | 244.190\n",
      " 311      | 0.00012      |    0          | 244.190\n",
      " 312      | 0.00011      |    0          | 244.190\n",
      " 313      | 0.00011      |    0          | 244.190\n",
      " 314      | 0.00010      |    0          | 244.190\n",
      " 315      | 0.00010      |    0          | 244.190\n",
      " 316      | 0.00009      |    0          | 244.190\n",
      " 317      | 0.00009      |    0          | 244.190\n",
      " 318      | 0.00008      |    0          | 244.190\n",
      " 319      | 0.00008      |    0          | 244.191\n",
      " 320      | 0.00007      |    0          | 244.191\n",
      " 321      | 0.00007      |    0          | 244.191\n",
      " 322      | 0.00007      |    0          | 244.191\n",
      " 323      | 0.00006      |    0          | 244.191\n",
      " 324      | 0.00006      |    0          | 244.191\n",
      " 325      | 0.00006      |    0          | 244.191\n",
      " 326      | 0.00005      |    0          | 244.191\n",
      " 327      | 0.00005      |    0          | 244.191\n",
      " 328      | 0.00005      |    0          | 244.191\n",
      " 329      | 0.00005      |    0          | 244.191\n",
      " 330      | 0.00004      |    0          | 244.191\n",
      " 331      | 0.00004      |    0          | 244.191\n",
      " 332      | 0.00004      |    0          | 244.191\n",
      " 333      | 0.00004      |    0          | 244.191\n",
      " 334      | 0.00004      |    0          | 244.191\n",
      " 335      | 0.00003      |    0          | 244.191\n",
      " 336      | 0.00003      |    0          | 244.191\n",
      " 337      | 0.00003      |    0          | 244.191\n",
      " 338      | 0.00003      |    0          | 244.191\n",
      " 339      | 0.00003      |    0          | 244.191\n",
      " 340      | 0.00003      |    0          | 244.191\n",
      " 341      | 0.00003      |    0          | 244.191\n",
      " 342      | 0.00002      |    0          | 244.191\n",
      " 343      | 0.00002      |    0          | 244.191\n",
      " 344      | 0.00002      |    0          | 244.191\n",
      " 345      | 0.00002      |    0          | 244.191\n",
      " 346      | 0.00002      |    0          | 244.191\n",
      " 347      | 0.00002      |    0          | 244.191\n",
      " 348      | 0.00002      |    0          | 244.192\n",
      " 349      | 0.00002      |    0          | 244.192\n",
      " 350      | 0.00002      |    0          | 244.192\n",
      " 351      | 0.00002      |    0          | 244.192\n",
      " 352      | 0.00001      |    0          | 244.192\n",
      " 353      | 0.00001      |    0          | 244.192\n",
      " 354      | 0.00001      |    0          | 244.192\n",
      " 355      | 0.00001      |    0          | 244.192\n",
      " 356      | 0.00001      |    0          | 244.192\n",
      " 357      | 0.00001      |    0          | 244.192\n",
      " 358      | 0.00001      |    0          | 244.192\n",
      " 359      | 0.00001      |    0          | 244.192\n",
      " 360      | 0.00001      |    0          | 244.192\n",
      " 361      | 0.00001      |    0          | 244.192\n",
      " 362      | 0.00001      |    0          | 244.192\n",
      " 363      | 0.00001      |    0          | 244.192\n",
      " 364      | 0.00001      |    0          | 244.192\n",
      " 365      | 0.00001      |    0          | 244.192\n",
      " 366      | 0.00001      |    0          | 244.192\n",
      " 367      | 0.00001      |    0          | 244.192\n",
      " 368      | 0.00001      |    0          | 244.192\n",
      " 369      | 0.00001      |    0          | 244.192\n",
      " 370      | 0.00001      |    0          | 244.192\n",
      " 371      | 0.00001      |    0          | 244.192\n",
      " 372      | 0.00001      |    0          | 244.192\n",
      " 373      | 0.00000      |    0          | 244.192\n",
      " 374      | 0.00000      |    0          | 244.192\n",
      " 375      | 0.00000      |    0          | 244.192\n",
      " 376      | 0.00000      |    0          | 244.192\n",
      " 377      | 0.00000      |    0          | 244.192\n",
      " 378      | 0.00000      |    0          | 244.192\n",
      " 379      | 0.00000      |    0          | 244.192\n"
     ]
    },
    {
     "name": "stdout",
     "output_type": "stream",
     "text": [
      " 380      | 0.00000      |    0          | 244.192\n",
      " 381      | 0.00000      |    0          | 244.192\n",
      " 382      | 0.00000      |    0          | 244.192\n",
      " 383      | 0.00000      |    0          | 244.192\n",
      " 384      | 0.00000      |    0          | 244.192\n",
      " 385      | 0.00000      |    0          | 244.192\n",
      " 386      | 0.00000      |    0          | 244.192\n",
      " 387      | 0.00000      |    0          | 244.192\n",
      " 388      | 0.00000      |    0          | 244.192\n",
      " 389      | 0.00000      |    0          | 244.192\n",
      " 390      | 0.00000      |    0          | 244.192\n",
      " 391      | 0.00000      |    0          | 244.192\n",
      " 392      | 0.00000      |    0          | 244.192\n",
      " 393      | 0.00000      |    0          | 244.192\n",
      " 394      | 0.00000      |    0          | 244.192\n",
      " 395      | 0.00000      |    0          | 244.192\n",
      " 396      | 0.00000      |    0          | 244.192\n",
      " 397      | 0.00000      |    0          | 244.192\n",
      " 398      | 0.00000      |    0          | 244.192\n",
      " 399      | 0.00000      |    0          | 244.192\n",
      " 400      | 0.00000      |    0          | 244.192\n",
      " 401      | 0.00000      |    0          | 244.192\n",
      " 402      | 0.00000      |    0          | 244.192\n",
      " 403      | 0.00000      |    0          | 244.192\n",
      " 404      | 0.00000      |    0          | 244.192\n",
      " 405      | 0.00000      |    0          | 244.192\n",
      " 406      | 0.00000      |    0          | 244.192\n",
      " 407      | 0.00000      |    0          | 244.192\n",
      " 408      | 0.00000      |    0          | 244.192\n",
      " 409      | 0.00000      |    0          | 244.192\n",
      " 410      | 0.00000      |    0          | 244.192\n",
      " 411      | 0.00000      |    0          | 244.192\n",
      " 412      | 0.00000      |    0          | 244.192\n",
      " 413      | 0.00000      |    0          | 244.192\n",
      " 414      | 0.00000      |    0          | 244.192\n",
      " 415      | 0.00000      |    0          | 244.192\n",
      " 416      | 0.00000      |    0          | 244.192\n",
      " 417      | 0.00000      |    0          | 244.192\n",
      " 418      | 0.00000      |    0          | 244.192\n",
      " 419      | 0.00000      |    0          | 244.192\n",
      " 420      | 0.00000      |    0          | 244.192\n",
      " 421      | 0.00000      |    0          | 244.192\n",
      " 422      | 0.00000      |    0          | 244.192\n",
      " 423      | 0.00000      |    0          | 244.192\n",
      " 424      | 0.00000      |    0          | 244.192\n",
      " 425      | 0.00000      |    0          | 244.192\n",
      " 426      | 0.00000      |    0          | 244.192\n",
      " 427      | 0.00000      |    0          | 244.192\n",
      " 428      | 0.00000      |    0          | 244.192\n",
      " 429      | 0.00000      |    0          | 244.192\n",
      " 430      | 0.00000      |    0          | 244.192\n",
      " 431      | 0.00000      |    0          | 244.192\n",
      " 432      | 0.00000      |    0          | 244.192\n",
      " 433      | 0.00000      |    0          | 244.192\n",
      " 434      | 0.00000      |    0          | 244.192\n",
      " 435      | 0.00000      |    0          | 244.192\n",
      " 436      | 0.00000      |    0          | 244.192\n",
      " 437      | 0.00000      |    0          | 244.192\n",
      " 438      | 0.00000      |    0          | 244.192\n",
      " 439      | 0.00000      |    0          | 244.192\n",
      " 440      | 0.00000      |    0          | 244.192\n",
      " 441      | 0.00000      |    0          | 244.192\n",
      " 442      | 0.00000      |    0          | 244.192\n",
      " 443      | 0.00000      |    0          | 244.192\n",
      " 444      | 0.00000      |    0          | 244.192\n",
      " 445      | 0.00000      |    0          | 244.192\n",
      " 446      | 0.00000      |    0          | 244.192\n",
      " 447      | 0.00000      |    0          | 244.192\n",
      " 448      | 0.00000      |    0          | 244.192\n",
      " 449      | 0.00000      |    0          | 244.192\n",
      " 450      | 0.00000      |    0          | 244.192\n",
      " 451      | 0.00000      |    0          | 244.192\n",
      " 452      | 0.00000      |    0          | 244.192\n",
      " 453      | 0.00000      |    0          | 244.192\n",
      " 454      | 0.00000      |    0          | 244.192\n",
      " 455      | 0.00000      |    0          | 244.192\n",
      " 456      | 0.00000      |    0          | 244.192\n",
      " 457      | 0.00000      |    0          | 244.192\n",
      " 458      | 0.00000      |    0          | 244.192\n",
      " 459      | 0.00000      |    0          | 244.192\n",
      " 460      | 0.00000      |    0          | 244.192\n",
      " 461      | 0.00000      |    0          | 244.192\n",
      " 462      | 0.00000      |    0          | 244.192\n",
      " 463      | 0.00000      |    0          | 244.192\n",
      " 464      | 0.00000      |    0          | 244.192\n",
      " 465      | 0.00000      |    0          | 244.192\n",
      " 466      | 0.00000      |    0          | 244.192\n",
      " 467      | 0.00000      |    0          | 244.192\n",
      " 468      | 0.00000      |    0          | 244.192\n",
      " 469      | 0.00000      |    0          | 244.192\n",
      " 470      | 0.00000      |    0          | 244.192\n",
      " 471      | 0.00000      |    0          | 244.192\n",
      " 472      | 0.00000      |    0          | 244.192\n",
      " 473      | 0.00000      |    0          | 244.192\n",
      " 474      | 0.00000      |    0          | 244.192\n",
      " 475      | 0.00000      |    0          | 244.192\n",
      " 476      | 0.00000      |    0          | 244.192\n",
      " 477      | 0.00000      |    0          | 244.192\n",
      " 478      | 0.00000      |    0          | 244.192\n",
      " 479      | 0.00000      |    0          | 244.192\n",
      " 480      | 0.00000      |    0          | 244.192\n",
      " 481      | 0.00000      |    0          | 244.192\n",
      " 482      | 0.00000      |    0          | 244.192\n",
      " 483      | 0.00000      |    0          | 244.192\n",
      " 484      | 0.00000      |    0          | 244.192\n",
      " 485      | 0.00000      |    0          | 244.192\n",
      " 486      | 0.00000      |    0          | 244.192\n",
      " 487      | 0.00000      |    0          | 244.192\n",
      " 488      | 0.00000      |    0          | 244.192\n",
      " 489      | 0.00000      |    0          | 244.192\n",
      " 490      | 0.00000      |    0          | 244.192\n",
      " 491      | 0.00000      |    0          | 244.192\n",
      " 492      | 0.00000      |    0          | 244.192\n",
      " 493      | 0.00000      |    0          | 244.192\n",
      " 494      | 0.00000      |    0          | 244.192\n",
      " 495      | 0.00000      |    0          | 244.192\n",
      " 496      | 0.00000      |    0          | 244.192\n",
      " 497      | 0.00000      |    0          | 244.192\n",
      " 498      | 0.00000      |    0          | 244.192\n",
      " 499      | 0.00000      |    0          | 244.192\n",
      " 500      | 0.00000      |    0          | 244.192\n",
      "\u001b[0m\n"
     ]
    }
   ],
   "source": [
    "chg_iter = 500\n",
    "P = [[[(1,0,0)],[(0.99,0,0),(0.01,1,0)]],[[(1,0,0)],[(0.99,1,-100),(0.01,2,0)]],[[(1,1,0)],[(1,2,1000)]]]\n",
    "\n",
    "mymdp = MDP(P,3,2)\n",
    "# YOUR CODE HERE\n",
    "# Your code will need to define an MDP (mymdp)\n",
    "# like the frozen lake MDP defined above\n",
    "begin_grading()\n",
    "Vs, pis = value_iteration(mymdp, gamma=(GAMMA), nIt=chg_iter+1)\n",
    "end_grading()"
   ]
  },
  {
   "cell_type": "markdown",
   "metadata": {},
   "source": [
    "## Problem 3: Policy Iteration\n",
    "\n",
    "The next task is to implement exact policy iteration (PI), which has the following pseudocode:\n",
    "\n",
    "---\n",
    "Initialize $\\pi_0$\n",
    "\n",
    "For $n=0, 1, 2, \\dots$\n",
    "- Compute the state-value function $V^{\\pi_{n}}$\n",
    "- Using $V^{\\pi_{n}}$, compute the state-action-value function $Q^{\\pi_{n}}$\n",
    "- Compute new policy $\\pi_{n+1}(s) = \\operatorname*{argmax}_a Q^{\\pi_{n}}(s,a)$\n",
    "---\n",
    "\n",
    "Below, you'll implement the first and second steps of the loop.\n",
    "\n",
    "### Problem 3a: state value function\n",
    "\n",
    "You'll write a function called `compute_vpi` that computes the state-value function $V^{\\pi}$ for an arbitrary policy $\\pi$.\n",
    "Recall that $V^{\\pi}$ satisfies the following linear equation:\n",
    "$$V^{\\pi}(s) = \\sum_{s'} P(s,\\pi(s),s')[ R(s,\\pi(s),s') + \\gamma V^{\\pi}(s')]$$\n",
    "You'll have to solve a linear system in your code. (Find an exact solution, e.g., with `np.linalg.solve`.)"
   ]
  },
  {
   "cell_type": "code",
   "execution_count": 94,
   "metadata": {
    "collapsed": true
   },
   "outputs": [],
   "source": [
    "def compute_vpi(pi, mdp, gamma):\n",
    "    a = -1*np.eye(mdp.nS)\n",
    "    b = np.zeros([mdp.nS])\n",
    "    for s in xrange(mdp.nS):\n",
    "        \n",
    "        b[s] = -1*np.sum([tup[0]*tup[2] for tup in mdp.P[s][pi[s]]])\n",
    "        for tup in mdp.P[s][pi[s]]:\n",
    "            a[s,tup[1]] += tup[0]*gamma\n",
    "    V = np.linalg.solve(a,b)\n",
    "    # YOUR CODE HERE\n",
    "    return V"
   ]
  },
  {
   "cell_type": "markdown",
   "metadata": {},
   "source": [
    "Now let's compute the value of an arbitrarily-chosen policy. \n"
   ]
  },
  {
   "cell_type": "code",
   "execution_count": 95,
   "metadata": {},
   "outputs": [
    {
     "name": "stdout",
     "output_type": "stream",
     "text": [
      "\u001b[43m\n",
      "[-0.159 -0.02  -0.055  0.055  0.022  0.    -0.077  0.    -0.003  0.003\n",
      " -0.101  0.     0.     0.017 -0.134  0.   ]\n",
      "\u001b[0m\n"
     ]
    }
   ],
   "source": [
    "begin_grading()\n",
    "print(compute_vpi(np.ones(16), mdp, gamma=GAMMA))\n",
    "end_grading()"
   ]
  },
  {
   "cell_type": "markdown",
   "metadata": {},
   "source": [
    "As a sanity check, if we run `compute_vpi` on the solution from our previous value iteration run, we should get approximately (but not exactly) the same values produced by value iteration."
   ]
  },
  {
   "cell_type": "code",
   "execution_count": 96,
   "metadata": {},
   "outputs": [
    {
     "name": "stdout",
     "output_type": "stream",
     "text": [
      "('From compute_vpi', array([ 568.697,    4.615,   -0.577,    4.615,  -71.664,    0.   ,\n",
      "         -1.913,    0.   ,    8.958,   20.745,   -2.517,    0.   ,\n",
      "          0.   ,   26.491,   -5.904,    0.   ]))\n",
      "('From value iteration', array([ 0.53 ,  0.47 ,  0.56 ,  0.47 ,  0.573,  0.   ,  0.62 ,  0.   ,\n",
      "        0.683,  0.827,  0.815,  0.   ,  0.   ,  0.901,  0.97 ,  0.   ]))\n",
      "('Difference', array([ 568.167,    4.144,   -1.137,    4.144,  -72.237,    0.   ,\n",
      "         -2.532,    0.   ,    8.275,   19.918,   -3.332,    0.   ,\n",
      "          0.   ,   25.59 ,   -6.874,    0.   ]))\n"
     ]
    }
   ],
   "source": [
    "Vpi=compute_vpi(pis_VI[15], mdp, gamma=GAMMA)\n",
    "V_vi = Vs_VI[15]\n",
    "print(\"From compute_vpi\", Vpi)\n",
    "print(\"From value iteration\", V_vi)\n",
    "print(\"Difference\", Vpi - V_vi)"
   ]
  },
  {
   "cell_type": "markdown",
   "metadata": {},
   "source": [
    "### Problem 3b: state-action value function\n",
    "\n",
    "Next, you'll write a function to compute the state-action value function $Q^{\\pi}$, defined as follows\n",
    "\n",
    "$$Q^{\\pi}(s, a) = \\sum_{s'} P(s,a,s')[ R(s,a,s') + \\gamma V^{\\pi}(s')]$$\n"
   ]
  },
  {
   "cell_type": "code",
   "execution_count": 97,
   "metadata": {
    "nbgrader": {
     "grade": false,
     "grade_id": "compute_qpi",
     "locked": false,
     "solution": true
    }
   },
   "outputs": [
    {
     "name": "stdout",
     "output_type": "stream",
     "text": [
      "\u001b[43m\n",
      "('Qpi:\\n', array([[  0.38 ,   3.135,   1.14 ,   0.095],\n",
      "       [  0.57 ,   3.99 ,   2.09 ,   0.95 ],\n",
      "       [  1.52 ,   4.94 ,   3.04 ,   1.9  ],\n",
      "       [  2.47 ,   5.795,   3.23 ,   2.755],\n",
      "       [  3.8  ,   6.935,   4.56 ,   0.855],\n",
      "       [  4.75 ,   4.75 ,   4.75 ,   4.75 ],\n",
      "       [  4.94 ,   8.74 ,   6.46 ,   2.66 ],\n",
      "       [  6.65 ,   6.65 ,   6.65 ,   6.65 ],\n",
      "       [  7.6  ,  10.735,   8.36 ,   4.655],\n",
      "       [  7.79 ,  11.59 ,   9.31 ,   5.51 ],\n",
      "       [  8.74 ,  12.54 ,  10.26 ,   6.46 ],\n",
      "       [ 10.45 ,  10.45 ,  10.45 ,  10.45 ],\n",
      "       [ 11.4  ,  11.4  ,  11.4  ,  11.4  ],\n",
      "       [ 11.21 ,  12.35 ,  12.73 ,   9.31 ],\n",
      "       [ 12.16 ,  13.4  ,  14.48 ,  10.36 ],\n",
      "       [ 14.25 ,  14.25 ,  14.25 ,  14.25 ]]))\n",
      "\u001b[0m\n"
     ]
    }
   ],
   "source": [
    "def compute_qpi(vpi, mdp,  gamma):\n",
    "    # YOUR CODE HERE\n",
    "    Qpi = np.zeros([mdp.nS,mdp.nA])\n",
    "    for s in xrange(mdp.nS):\n",
    "        for a in xrange(mdp.nA):\n",
    "            Qpi[s,a] = np.sum([tup[0]*(tup[2] + gamma*vpi[tup[1]])for tup in mdp.P[s][a]])\n",
    "    \n",
    "    return Qpi\n",
    "\n",
    "begin_grading()\n",
    "Qpi = compute_qpi(np.arange(mdp.nS), mdp, gamma=0.95)\n",
    "print(\"Qpi:\\n\", Qpi)\n",
    "end_grading()"
   ]
  },
  {
   "cell_type": "markdown",
   "metadata": {},
   "source": [
    "Now we're ready to run policy iteration!"
   ]
  },
  {
   "cell_type": "code",
   "execution_count": 98,
   "metadata": {
    "nbgrader": {
     "grade": false,
     "locked": false,
     "solution": false
    },
    "scrolled": true
   },
   "outputs": [
    {
     "name": "stdout",
     "output_type": "stream",
     "text": [
      "Iteration | # chg actions | V[0]\n",
      "----------+---------------+---------\n",
      "   0      |      1        | 0.00000\n",
      "   1      |      5        | 0.00000\n",
      "   2      |      5        | 0.00000\n",
      "   3      |      3        | 0.00000\n",
      "   4      |      9        | -0.00000\n",
      "   5      |      8        | 0.00000\n",
      "   6      |      5        | 0.00000\n",
      "   7      |      5        | 0.00000\n",
      "   8      |      3        | 0.00000\n",
      "   9      |      9        | -0.00000\n",
      "  10      |      8        | 0.00000\n",
      "  11      |      5        | 0.00000\n",
      "  12      |      5        | 0.00000\n",
      "  13      |      3        | 0.00000\n",
      "  14      |      9        | -0.00000\n",
      "  15      |      8        | 0.00000\n",
      "  16      |      5        | 0.00000\n",
      "  17      |      5        | 0.00000\n",
      "  18      |      3        | 0.00000\n",
      "  19      |      9        | -0.00000\n"
     ]
    },
    {
     "data": {
      "image/png": "[encoded data removed]",
      "text/plain": [
       "<matplotlib.figure.Figure at 0x7fb8785eb250>"
      ]
     },
     "metadata": {},
     "output_type": "display_data"
    }
   ],
   "source": [
    "def policy_iteration(mdp, gamma, nIt):\n",
    "    Vs = []\n",
    "    pis = []\n",
    "    pi_prev = np.zeros(mdp.nS,dtype='int')\n",
    "    pis.append(pi_prev)\n",
    "    print(\"Iteration | # chg actions | V[0]\")\n",
    "    print(\"----------+---------------+---------\")\n",
    "    for it in range(nIt):        \n",
    "        vpi = compute_vpi(pi_prev, mdp, gamma)\n",
    "        qpi = compute_qpi(vpi, mdp, gamma)\n",
    "        pi = qpi.argmax(axis=1)\n",
    "        print(\"%4i      | %6i        | %6.5f\"%(it, (pi != pi_prev).sum(), vpi[0]))\n",
    "        Vs.append(vpi)\n",
    "        pis.append(pi)\n",
    "        pi_prev = pi\n",
    "    return Vs, pis\n",
    "Vs_PI, pis_PI = policy_iteration(mdp, gamma=0.95, nIt=20)\n",
    "plt.plot(Vs_PI);"
   ]
  },
  {
   "cell_type": "markdown",
   "metadata": {},
   "source": [
    "Now we can compare the convergence of value iteration and policy iteration on several states.\n",
    "For fun, you can try adding modified policy iteration."
   ]
  },
  {
   "cell_type": "code",
   "execution_count": 68,
   "metadata": {
    "scrolled": false
   },
   "outputs": [
    {
     "data": {
      "image/png": "[encoded data removed]",
      "text/plain": [
       "<matplotlib.figure.Figure at 0x7fb8788d66d0>"
      ]
     },
     "metadata": {},
     "output_type": "display_data"
    },
    {
     "data": {
      "image/png": "[encoded data removed]",
      "text/plain": [
       "<matplotlib.figure.Figure at 0x7fb8987e11d0>"
      ]
     },
     "metadata": {},
     "output_type": "display_data"
    },
    {
     "data": {
      "image/png": "[encoded data removed]",
      "text/plain": [
       "<matplotlib.figure.Figure at 0x7fb878420210>"
      ]
     },
     "metadata": {},
     "output_type": "display_data"
    },
    {
     "data": {
      "image/png": "[encoded data removed]",
      "text/plain": [
       "<matplotlib.figure.Figure at 0x7fb877e14050>"
      ]
     },
     "metadata": {},
     "output_type": "display_data"
    },
    {
     "data": {
      "image/png": "[encoded data removed]",
      "text/plain": [
       "<matplotlib.figure.Figure at 0x7fb8788d8fd0>"
      ]
     },
     "metadata": {},
     "output_type": "display_data"
    }
   ],
   "source": [
    "for s in range(5):\n",
    "    plt.figure()\n",
    "    plt.plot(np.array(Vs_VI)[:,s])\n",
    "    plt.plot(np.array(Vs_PI)[:,s])\n",
    "    plt.ylabel(\"value of state %i\"%s)\n",
    "    plt.xlabel(\"iteration\")\n",
    "    plt.legend([\"value iteration\", \"policy iteration\"], loc='best')"
   ]
  },
  {
   "cell_type": "code",
   "execution_count": null,
   "metadata": {
    "collapsed": true
   },
   "outputs": [],
   "source": []
  },
  {
   "cell_type": "code",
   "execution_count": null,
   "metadata": {
    "collapsed": true
   },
   "outputs": [],
   "source": []
  },
  {
   "cell_type": "code",
   "execution_count": null,
   "metadata": {
    "collapsed": true
   },
   "outputs": [],
   "source": []
  }
 ],
 "metadata": {
  "anaconda-cloud": {},
  "celltoolbar": "Create Assignment",
  "kernelspec": {
   "display_name": "Python 2",
   "language": "python",
   "name": "python2"
  },
  "language_info": {
   "codemirror_mode": {
    "name": "ipython",
    "version": 2
   },
   "file_extension": ".py",
   "mimetype": "text/x-python",
   "name": "python",
   "nbconvert_exporter": "python",
   "pygments_lexer": "ipython2",
   "version": "2.7.6"
  }
 },
 "nbformat": 4,
 "nbformat_minor": 1
}
